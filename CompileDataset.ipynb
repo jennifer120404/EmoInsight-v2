{
  "nbformat": 4,
  "nbformat_minor": 0,
  "metadata": {
    "colab": {
      "provenance": []
    },
    "kernelspec": {
      "name": "python3",
      "display_name": "Python 3"
    },
    "language_info": {
      "name": "python"
    }
  },
  "cells": [
    {
      "cell_type": "markdown",
      "source": [
        "# Download Datasets 4"
      ],
      "metadata": {
        "id": "AMkcX7F24xug"
      }
    },
    {
      "cell_type": "code",
      "source": [
        "from google.colab import drive\n",
        "\n",
        "# Mount Google Drive\n",
        "drive.mount('/content/drive')\n",
        "\n",
        "# Specify the path where you want to save the CSV file on Google Drive\n",
        "google_drive_path = '/content/drive/desktop/EmoInght'"
      ],
      "metadata": {
        "colab": {
          "base_uri": "https://localhost:8080/"
        },
        "id": "MlrFHeHYGOcF",
        "outputId": "8513e7e5-0fb3-4928-f8bf-144e9db72a3f"
      },
      "execution_count": null,
      "outputs": [
        {
          "output_type": "stream",
          "name": "stdout",
          "text": [
            "Drive already mounted at /content/drive; to attempt to forcibly remount, call drive.mount(\"/content/drive\", force_remount=True).\n"
          ]
        }
      ]
    },
    {
      "cell_type": "code",
      "source": [
        "pip install datasets"
      ],
      "metadata": {
        "id": "iofK7LBL5VIE"
      },
      "execution_count": null,
      "outputs": []
    },
    {
      "cell_type": "code",
      "source": [
        "import pandas as pd\n",
        "import numpy as np\n",
        "from datasets import load_dataset"
      ],
      "metadata": {
        "id": "htvK_6zD8WdP"
      },
      "execution_count": null,
      "outputs": []
    },
    {
      "cell_type": "code",
      "source": [
        "# Emotion category mapping\n",
        "emotion_categories = {\n",
        "    0: 'surprise',\n",
        "    1: 'joy',\n",
        "    2: 'love',\n",
        "    3: 'neutral',\n",
        "    4: 'sadness',\n",
        "    5: 'fear',\n",
        "    6: 'anger'\n",
        "}"
      ],
      "metadata": {
        "id": "VuQ0VyJ693aN"
      },
      "execution_count": null,
      "outputs": []
    },
    {
      "cell_type": "markdown",
      "source": [
        "### crowdflower"
      ],
      "metadata": {
        "id": "F3VCPk6WAuYl"
      }
    },
    {
      "cell_type": "code",
      "source": [
        "crowdflower = load_dataset(\"tasksource/crowdflower\",'text_emotion', split=\"train\")"
      ],
      "metadata": {
        "id": "1SEhOKJQAuPr"
      },
      "execution_count": null,
      "outputs": []
    },
    {
      "cell_type": "code",
      "source": [
        "# get label and there string values\n",
        "a = 0\n",
        "emotions = {}\n",
        "for i in crowdflower.features['label'].names:\n",
        "  emotions[a] = i\n",
        "  a+=1\n",
        "emotions"
      ],
      "metadata": {
        "colab": {
          "base_uri": "https://localhost:8080/"
        },
        "id": "o6kVqvHyAuNt",
        "outputId": "146b313a-6820-4dbe-d0c6-02a24166df84"
      },
      "execution_count": null,
      "outputs": [
        {
          "output_type": "execute_result",
          "data": {
            "text/plain": [
              "{0: 'sadness',\n",
              " 1: 'empty',\n",
              " 2: 'relief',\n",
              " 3: 'hate',\n",
              " 4: 'worry',\n",
              " 5: 'enthusiasm',\n",
              " 6: 'happiness',\n",
              " 7: 'neutral',\n",
              " 8: 'love',\n",
              " 9: 'fun',\n",
              " 10: 'anger',\n",
              " 11: 'surprise',\n",
              " 12: 'boredom'}"
            ]
          },
          "metadata": {},
          "execution_count": 49
        }
      ]
    },
    {
      "cell_type": "code",
      "source": [
        "# save data into dataframe\n",
        "crowdflower = pd.DataFrame(crowdflower)\n",
        "crowdflower\n",
        "# Remove square brackets and convert to int\n",
        "crowdflower.drop('idx',axis=1, inplace=True)"
      ],
      "metadata": {
        "id": "uziuioPfAuJg"
      },
      "execution_count": null,
      "outputs": []
    },
    {
      "cell_type": "code",
      "source": [
        "# get label number for emotion present in 'emotion_categories'\n",
        "emotion_to_extract = [k for k,v in emotions.items() if v in emotion_categories.values() ]\n",
        "for i in emotion_to_extract:\n",
        "  print(i, emotions[i])"
      ],
      "metadata": {
        "colab": {
          "base_uri": "https://localhost:8080/"
        },
        "id": "KX8HF1TTAuHF",
        "outputId": "ef8f0ef4-d19e-422b-84c3-48e4988a4565"
      },
      "execution_count": null,
      "outputs": [
        {
          "output_type": "stream",
          "name": "stdout",
          "text": [
            "0 sadness\n",
            "7 neutral\n",
            "8 love\n",
            "10 anger\n",
            "11 surprise\n"
          ]
        }
      ]
    },
    {
      "cell_type": "code",
      "source": [
        "df2 = crowdflower[crowdflower['label'].isin(emotion_to_extract)]\n",
        "df2.head()"
      ],
      "metadata": {
        "colab": {
          "base_uri": "https://localhost:8080/",
          "height": 206
        },
        "id": "zjBO0RQ2AuEx",
        "outputId": "9b18ee13-f77f-45c9-da41-cf1b4ba44824"
      },
      "execution_count": null,
      "outputs": [
        {
          "output_type": "execute_result",
          "data": {
            "text/plain": [
              "                                                text  label\n",
              "1  Layin n bed with a headache  ughhhh...waitin o...      0\n",
              "2                Funeral ceremony...gloomy friday...      0\n",
              "4  @dannycastillo We want to trade with someone w...      7\n",
              "6  I should be sleep, but im not! thinking about ...      0\n",
              "8            @charviray Charlene my love. I miss you      0"
            ],
            "text/html": [
              "\n",
              "  <div id=\"df-6ad963dd-79c8-44cb-913d-b749ae4abcfc\" class=\"colab-df-container\">\n",
              "    <div>\n",
              "<style scoped>\n",
              "    .dataframe tbody tr th:only-of-type {\n",
              "        vertical-align: middle;\n",
              "    }\n",
              "\n",
              "    .dataframe tbody tr th {\n",
              "        vertical-align: top;\n",
              "    }\n",
              "\n",
              "    .dataframe thead th {\n",
              "        text-align: right;\n",
              "    }\n",
              "</style>\n",
              "<table border=\"1\" class=\"dataframe\">\n",
              "  <thead>\n",
              "    <tr style=\"text-align: right;\">\n",
              "      <th></th>\n",
              "      <th>text</th>\n",
              "      <th>label</th>\n",
              "    </tr>\n",
              "  </thead>\n",
              "  <tbody>\n",
              "    <tr>\n",
              "      <th>1</th>\n",
              "      <td>Layin n bed with a headache  ughhhh...waitin o...</td>\n",
              "      <td>0</td>\n",
              "    </tr>\n",
              "    <tr>\n",
              "      <th>2</th>\n",
              "      <td>Funeral ceremony...gloomy friday...</td>\n",
              "      <td>0</td>\n",
              "    </tr>\n",
              "    <tr>\n",
              "      <th>4</th>\n",
              "      <td>@dannycastillo We want to trade with someone w...</td>\n",
              "      <td>7</td>\n",
              "    </tr>\n",
              "    <tr>\n",
              "      <th>6</th>\n",
              "      <td>I should be sleep, but im not! thinking about ...</td>\n",
              "      <td>0</td>\n",
              "    </tr>\n",
              "    <tr>\n",
              "      <th>8</th>\n",
              "      <td>@charviray Charlene my love. I miss you</td>\n",
              "      <td>0</td>\n",
              "    </tr>\n",
              "  </tbody>\n",
              "</table>\n",
              "</div>\n",
              "    <div class=\"colab-df-buttons\">\n",
              "\n",
              "  <div class=\"colab-df-container\">\n",
              "    <button class=\"colab-df-convert\" onclick=\"convertToInteractive('df-6ad963dd-79c8-44cb-913d-b749ae4abcfc')\"\n",
              "            title=\"Convert this dataframe to an interactive table.\"\n",
              "            style=\"display:none;\">\n",
              "\n",
              "  <svg xmlns=\"http://www.w3.org/2000/svg\" height=\"24px\" viewBox=\"0 -960 960 960\">\n",
              "    <path d=\"M120-120v-720h720v720H120Zm60-500h600v-160H180v160Zm220 220h160v-160H400v160Zm0 220h160v-160H400v160ZM180-400h160v-160H180v160Zm440 0h160v-160H620v160ZM180-180h160v-160H180v160Zm440 0h160v-160H620v160Z\"/>\n",
              "  </svg>\n",
              "    </button>\n",
              "\n",
              "  <style>\n",
              "    .colab-df-container {\n",
              "      display:flex;\n",
              "      gap: 12px;\n",
              "    }\n",
              "\n",
              "    .colab-df-convert {\n",
              "      background-color: #E8F0FE;\n",
              "      border: none;\n",
              "      border-radius: 50%;\n",
              "      cursor: pointer;\n",
              "      display: none;\n",
              "      fill: #1967D2;\n",
              "      height: 32px;\n",
              "      padding: 0 0 0 0;\n",
              "      width: 32px;\n",
              "    }\n",
              "\n",
              "    .colab-df-convert:hover {\n",
              "      background-color: #E2EBFA;\n",
              "      box-shadow: 0px 1px 2px rgba(60, 64, 67, 0.3), 0px 1px 3px 1px rgba(60, 64, 67, 0.15);\n",
              "      fill: #174EA6;\n",
              "    }\n",
              "\n",
              "    .colab-df-buttons div {\n",
              "      margin-bottom: 4px;\n",
              "    }\n",
              "\n",
              "    [theme=dark] .colab-df-convert {\n",
              "      background-color: #3B4455;\n",
              "      fill: #D2E3FC;\n",
              "    }\n",
              "\n",
              "    [theme=dark] .colab-df-convert:hover {\n",
              "      background-color: #434B5C;\n",
              "      box-shadow: 0px 1px 3px 1px rgba(0, 0, 0, 0.15);\n",
              "      filter: drop-shadow(0px 1px 2px rgba(0, 0, 0, 0.3));\n",
              "      fill: #FFFFFF;\n",
              "    }\n",
              "  </style>\n",
              "\n",
              "    <script>\n",
              "      const buttonEl =\n",
              "        document.querySelector('#df-6ad963dd-79c8-44cb-913d-b749ae4abcfc button.colab-df-convert');\n",
              "      buttonEl.style.display =\n",
              "        google.colab.kernel.accessAllowed ? 'block' : 'none';\n",
              "\n",
              "      async function convertToInteractive(key) {\n",
              "        const element = document.querySelector('#df-6ad963dd-79c8-44cb-913d-b749ae4abcfc');\n",
              "        const dataTable =\n",
              "          await google.colab.kernel.invokeFunction('convertToInteractive',\n",
              "                                                    [key], {});\n",
              "        if (!dataTable) return;\n",
              "\n",
              "        const docLinkHtml = 'Like what you see? Visit the ' +\n",
              "          '<a target=\"_blank\" href=https://colab.research.google.com/notebooks/data_table.ipynb>data table notebook</a>'\n",
              "          + ' to learn more about interactive tables.';\n",
              "        element.innerHTML = '';\n",
              "        dataTable['output_type'] = 'display_data';\n",
              "        await google.colab.output.renderOutput(dataTable, element);\n",
              "        const docLink = document.createElement('div');\n",
              "        docLink.innerHTML = docLinkHtml;\n",
              "        element.appendChild(docLink);\n",
              "      }\n",
              "    </script>\n",
              "  </div>\n",
              "\n",
              "\n",
              "<div id=\"df-83356917-723f-4e84-ac70-a56994c27788\">\n",
              "  <button class=\"colab-df-quickchart\" onclick=\"quickchart('df-83356917-723f-4e84-ac70-a56994c27788')\"\n",
              "            title=\"Suggest charts.\"\n",
              "            style=\"display:none;\">\n",
              "\n",
              "<svg xmlns=\"http://www.w3.org/2000/svg\" height=\"24px\"viewBox=\"0 0 24 24\"\n",
              "     width=\"24px\">\n",
              "    <g>\n",
              "        <path d=\"M19 3H5c-1.1 0-2 .9-2 2v14c0 1.1.9 2 2 2h14c1.1 0 2-.9 2-2V5c0-1.1-.9-2-2-2zM9 17H7v-7h2v7zm4 0h-2V7h2v10zm4 0h-2v-4h2v4z\"/>\n",
              "    </g>\n",
              "</svg>\n",
              "  </button>\n",
              "\n",
              "<style>\n",
              "  .colab-df-quickchart {\n",
              "      --bg-color: #E8F0FE;\n",
              "      --fill-color: #1967D2;\n",
              "      --hover-bg-color: #E2EBFA;\n",
              "      --hover-fill-color: #174EA6;\n",
              "      --disabled-fill-color: #AAA;\n",
              "      --disabled-bg-color: #DDD;\n",
              "  }\n",
              "\n",
              "  [theme=dark] .colab-df-quickchart {\n",
              "      --bg-color: #3B4455;\n",
              "      --fill-color: #D2E3FC;\n",
              "      --hover-bg-color: #434B5C;\n",
              "      --hover-fill-color: #FFFFFF;\n",
              "      --disabled-bg-color: #3B4455;\n",
              "      --disabled-fill-color: #666;\n",
              "  }\n",
              "\n",
              "  .colab-df-quickchart {\n",
              "    background-color: var(--bg-color);\n",
              "    border: none;\n",
              "    border-radius: 50%;\n",
              "    cursor: pointer;\n",
              "    display: none;\n",
              "    fill: var(--fill-color);\n",
              "    height: 32px;\n",
              "    padding: 0;\n",
              "    width: 32px;\n",
              "  }\n",
              "\n",
              "  .colab-df-quickchart:hover {\n",
              "    background-color: var(--hover-bg-color);\n",
              "    box-shadow: 0 1px 2px rgba(60, 64, 67, 0.3), 0 1px 3px 1px rgba(60, 64, 67, 0.15);\n",
              "    fill: var(--button-hover-fill-color);\n",
              "  }\n",
              "\n",
              "  .colab-df-quickchart-complete:disabled,\n",
              "  .colab-df-quickchart-complete:disabled:hover {\n",
              "    background-color: var(--disabled-bg-color);\n",
              "    fill: var(--disabled-fill-color);\n",
              "    box-shadow: none;\n",
              "  }\n",
              "\n",
              "  .colab-df-spinner {\n",
              "    border: 2px solid var(--fill-color);\n",
              "    border-color: transparent;\n",
              "    border-bottom-color: var(--fill-color);\n",
              "    animation:\n",
              "      spin 1s steps(1) infinite;\n",
              "  }\n",
              "\n",
              "  @keyframes spin {\n",
              "    0% {\n",
              "      border-color: transparent;\n",
              "      border-bottom-color: var(--fill-color);\n",
              "      border-left-color: var(--fill-color);\n",
              "    }\n",
              "    20% {\n",
              "      border-color: transparent;\n",
              "      border-left-color: var(--fill-color);\n",
              "      border-top-color: var(--fill-color);\n",
              "    }\n",
              "    30% {\n",
              "      border-color: transparent;\n",
              "      border-left-color: var(--fill-color);\n",
              "      border-top-color: var(--fill-color);\n",
              "      border-right-color: var(--fill-color);\n",
              "    }\n",
              "    40% {\n",
              "      border-color: transparent;\n",
              "      border-right-color: var(--fill-color);\n",
              "      border-top-color: var(--fill-color);\n",
              "    }\n",
              "    60% {\n",
              "      border-color: transparent;\n",
              "      border-right-color: var(--fill-color);\n",
              "    }\n",
              "    80% {\n",
              "      border-color: transparent;\n",
              "      border-right-color: var(--fill-color);\n",
              "      border-bottom-color: var(--fill-color);\n",
              "    }\n",
              "    90% {\n",
              "      border-color: transparent;\n",
              "      border-bottom-color: var(--fill-color);\n",
              "    }\n",
              "  }\n",
              "</style>\n",
              "\n",
              "  <script>\n",
              "    async function quickchart(key) {\n",
              "      const quickchartButtonEl =\n",
              "        document.querySelector('#' + key + ' button');\n",
              "      quickchartButtonEl.disabled = true;  // To prevent multiple clicks.\n",
              "      quickchartButtonEl.classList.add('colab-df-spinner');\n",
              "      try {\n",
              "        const charts = await google.colab.kernel.invokeFunction(\n",
              "            'suggestCharts', [key], {});\n",
              "      } catch (error) {\n",
              "        console.error('Error during call to suggestCharts:', error);\n",
              "      }\n",
              "      quickchartButtonEl.classList.remove('colab-df-spinner');\n",
              "      quickchartButtonEl.classList.add('colab-df-quickchart-complete');\n",
              "    }\n",
              "    (() => {\n",
              "      let quickchartButtonEl =\n",
              "        document.querySelector('#df-83356917-723f-4e84-ac70-a56994c27788 button');\n",
              "      quickchartButtonEl.style.display =\n",
              "        google.colab.kernel.accessAllowed ? 'block' : 'none';\n",
              "    })();\n",
              "  </script>\n",
              "</div>\n",
              "    </div>\n",
              "  </div>\n"
            ]
          },
          "metadata": {},
          "execution_count": 52
        }
      ]
    },
    {
      "cell_type": "code",
      "source": [
        "e = {0: 'sadness',\n",
        " 1: 'empty',\n",
        " 2: 'relief',\n",
        " 3: 'hate',\n",
        " 4: 'worry',\n",
        " 5: 'enthusiasm',\n",
        " 6: 'happiness',\n",
        " 7: 'neutral',\n",
        " 8: 'love',\n",
        " 9: 'fun',\n",
        " 10: 'anger',\n",
        " 11: 'surprise',\n",
        " 12: 'boredom'}\n",
        "\n",
        "df2['label'] = df2['label'].map(e)"
      ],
      "metadata": {
        "colab": {
          "base_uri": "https://localhost:8080/"
        },
        "id": "fVhGHa2Rjk0s",
        "outputId": "1ae5119b-bbaf-4d69-bef8-6d67661c3dd8"
      },
      "execution_count": null,
      "outputs": [
        {
          "output_type": "stream",
          "name": "stderr",
          "text": [
            "<ipython-input-54-545ad3897eae>:15: SettingWithCopyWarning: \n",
            "A value is trying to be set on a copy of a slice from a DataFrame.\n",
            "Try using .loc[row_indexer,col_indexer] = value instead\n",
            "\n",
            "See the caveats in the documentation: https://pandas.pydata.org/pandas-docs/stable/user_guide/indexing.html#returning-a-view-versus-a-copy\n",
            "  df2['label'] = df2['label'].map(e)\n"
          ]
        }
      ]
    },
    {
      "cell_type": "code",
      "source": [
        "df2['label'].value_counts()"
      ],
      "metadata": {
        "colab": {
          "base_uri": "https://localhost:8080/"
        },
        "id": "k3fX6a-_AuCY",
        "outputId": "ed8a97c2-c393-474c-d549-1f723b81261a"
      },
      "execution_count": null,
      "outputs": [
        {
          "output_type": "execute_result",
          "data": {
            "text/plain": [
              "neutral     8638\n",
              "sadness     5165\n",
              "love        3842\n",
              "surprise    2187\n",
              "anger        110\n",
              "Name: label, dtype: int64"
            ]
          },
          "metadata": {},
          "execution_count": 55
        }
      ]
    },
    {
      "cell_type": "code",
      "source": [
        "# CSV file will be saved to your Google Drive\n",
        "df2.to_csv(google_drive_path+'/crowdflower.csv', index=False)\n",
        "\n",
        "\n",
        "\n",
        "\n",
        "\n",
        "\n"
      ],
      "metadata": {
        "id": "YyG_pLOIGpUw"
      },
      "execution_count": null,
      "outputs": []
    },
    {
      "cell_type": "markdown",
      "source": [
        "### go_emotions"
      ],
      "metadata": {
        "id": "QQFHdGHjDGXA"
      }
    },
    {
      "cell_type": "code",
      "source": [
        "go_emotions = load_dataset(\"go_emotions\",'simplified')"
      ],
      "metadata": {
        "id": "_scOhQLgDGXB"
      },
      "execution_count": null,
      "outputs": []
    },
    {
      "cell_type": "code",
      "source": [
        "go_emotions"
      ],
      "metadata": {
        "colab": {
          "base_uri": "https://localhost:8080/"
        },
        "id": "xN_hPedgDkqs",
        "outputId": "03c06d7e-df09-4fc6-a97f-66c4d15c16f0"
      },
      "execution_count": null,
      "outputs": [
        {
          "output_type": "execute_result",
          "data": {
            "text/plain": [
              "DatasetDict({\n",
              "    train: Dataset({\n",
              "        features: ['text', 'labels', 'id'],\n",
              "        num_rows: 43410\n",
              "    })\n",
              "    validation: Dataset({\n",
              "        features: ['text', 'labels', 'id'],\n",
              "        num_rows: 5426\n",
              "    })\n",
              "    test: Dataset({\n",
              "        features: ['text', 'labels', 'id'],\n",
              "        num_rows: 5427\n",
              "    })\n",
              "})"
            ]
          },
          "metadata": {},
          "execution_count": 67
        }
      ]
    },
    {
      "cell_type": "code",
      "source": [
        "def get_goEmotion(dataset_1):\n",
        "  # get label and there string values\n",
        "  a = 0\n",
        "  emotions = {}\n",
        "  for i in dataset_1.features['labels'].feature.names:\n",
        "    emotions[a] = i\n",
        "    a+=1\n",
        "  # save data into dataframe\n",
        "  go_emotions_df = pd.DataFrame(dataset_1)\n",
        "\n",
        "  # Remove square brackets and convert to int\n",
        "  go_emotions_df['labels'] = go_emotions_df['labels'].apply(lambda x: int(x[0]))\n",
        "  go_emotions_df.drop('id',axis=1, inplace=True)\n",
        "  # get label number for emotion present in 'emotion_categories'\n",
        "  emotion_to_extract = [k for k,v in emotions.items() if v in emotion_categories.values() ]\n",
        "  print()\n",
        "  for i in emotion_to_extract:\n",
        "    print(i, emotions[i])\n",
        "  df1 = go_emotions_df[go_emotions_df['labels'].isin(emotion_to_extract)]\n",
        "  return df1"
      ],
      "metadata": {
        "id": "yJGP9Jb1DrE6"
      },
      "execution_count": null,
      "outputs": []
    },
    {
      "cell_type": "code",
      "source": [
        "df_11 = get_goEmotion(go_emotions['train'])\n",
        "df_12 = get_goEmotion(go_emotions['test'])\n",
        "df_13 = get_goEmotion(go_emotions['validation'])"
      ],
      "metadata": {
        "id": "Wvcb_oQKFCwq",
        "colab": {
          "base_uri": "https://localhost:8080/"
        },
        "outputId": "36644c14-30e0-4da7-b73d-f2e1e1e5f5d0"
      },
      "execution_count": null,
      "outputs": [
        {
          "output_type": "stream",
          "name": "stdout",
          "text": [
            "\n",
            "2 anger\n",
            "14 fear\n",
            "17 joy\n",
            "18 love\n",
            "25 sadness\n",
            "26 surprise\n",
            "27 neutral\n",
            "\n",
            "2 anger\n",
            "14 fear\n",
            "17 joy\n",
            "18 love\n",
            "25 sadness\n",
            "26 surprise\n",
            "27 neutral\n",
            "\n",
            "2 anger\n",
            "14 fear\n",
            "17 joy\n",
            "18 love\n",
            "25 sadness\n",
            "26 surprise\n",
            "27 neutral\n"
          ]
        }
      ]
    },
    {
      "cell_type": "code",
      "source": [
        "df1 = pd.concat([df_11,df_12,df_13])\n",
        "df1['label'] = df1['labels']\n",
        "df1.drop('labels', axis=1, inplace=True)\n",
        "df1.shape, df1['label'].value_counts()"
      ],
      "metadata": {
        "colab": {
          "base_uri": "https://localhost:8080/"
        },
        "id": "_vsYlW11F-Z3",
        "outputId": "a73a7447-c921-4f10-9b8c-f22fc4759608"
      },
      "execution_count": null,
      "outputs": [
        {
          "output_type": "execute_result",
          "data": {
            "text/plain": [
              "((23753, 2),\n",
              " 27    16021\n",
              " 2      1936\n",
              " 18     1883\n",
              " 17     1250\n",
              " 25     1067\n",
              " 26      938\n",
              " 14      658\n",
              " Name: label, dtype: int64)"
            ]
          },
          "metadata": {},
          "execution_count": 70
        }
      ]
    },
    {
      "cell_type": "code",
      "source": [
        "e = {\n",
        "    2: 'anger',\n",
        "    14: 'fear',\n",
        "    17: 'joy',\n",
        "    18: 'love',\n",
        "    25: 'sadness',\n",
        "    26: 'surprise',\n",
        "    27: 'neutral'\n",
        "}\n",
        "df1['label'] = df1['label'].map(e)"
      ],
      "metadata": {
        "id": "1GwSKtjcj9YS"
      },
      "execution_count": null,
      "outputs": []
    },
    {
      "cell_type": "code",
      "source": [
        "df1.shape, df1['label'].value_counts()"
      ],
      "metadata": {
        "colab": {
          "base_uri": "https://localhost:8080/"
        },
        "id": "209pWxblkd3n",
        "outputId": "bda249a1-1f1a-4e38-b3b9-0ab51b1ff8bf"
      },
      "execution_count": null,
      "outputs": [
        {
          "output_type": "execute_result",
          "data": {
            "text/plain": [
              "((23753, 2),\n",
              " neutral     16021\n",
              " anger        1936\n",
              " love         1883\n",
              " joy          1250\n",
              " sadness      1067\n",
              " surprise      938\n",
              " fear          658\n",
              " Name: label, dtype: int64)"
            ]
          },
          "metadata": {},
          "execution_count": 73
        }
      ]
    },
    {
      "cell_type": "code",
      "source": [
        "# CSV file will be saved to your Google Drive\n",
        "df1.to_csv(google_drive_path+'/go_emotions.csv', index=False)\n",
        "\n",
        "\n",
        "\n",
        "\n",
        "\n",
        "\n"
      ],
      "metadata": {
        "id": "KWCTkcsCGBYa"
      },
      "execution_count": null,
      "outputs": []
    },
    {
      "cell_type": "markdown",
      "source": [
        "### emotion"
      ],
      "metadata": {
        "id": "1jxk_4nXOu63"
      }
    },
    {
      "cell_type": "code",
      "source": [
        "emotions = load_dataset(\"dair-ai/emotion\",'split')"
      ],
      "metadata": {
        "id": "2LY_GfrtO0k3"
      },
      "execution_count": null,
      "outputs": []
    },
    {
      "cell_type": "code",
      "source": [
        "emotions"
      ],
      "metadata": {
        "colab": {
          "base_uri": "https://localhost:8080/"
        },
        "outputId": "616d77cc-eebd-4f53-cfa7-32a47675f165",
        "id": "KWaZTq4hO0k5"
      },
      "execution_count": null,
      "outputs": [
        {
          "output_type": "execute_result",
          "data": {
            "text/plain": [
              "DatasetDict({\n",
              "    train: Dataset({\n",
              "        features: ['text', 'label'],\n",
              "        num_rows: 16000\n",
              "    })\n",
              "    validation: Dataset({\n",
              "        features: ['text', 'label'],\n",
              "        num_rows: 2000\n",
              "    })\n",
              "    test: Dataset({\n",
              "        features: ['text', 'label'],\n",
              "        num_rows: 2000\n",
              "    })\n",
              "})"
            ]
          },
          "metadata": {},
          "execution_count": 76
        }
      ]
    },
    {
      "cell_type": "code",
      "source": [
        "emotions['train'].features['label'].names"
      ],
      "metadata": {
        "colab": {
          "base_uri": "https://localhost:8080/"
        },
        "id": "c-tF6KTiPEHt",
        "outputId": "d325abf4-8f91-4f94-e968-c75188c3734f"
      },
      "execution_count": null,
      "outputs": [
        {
          "output_type": "execute_result",
          "data": {
            "text/plain": [
              "['sadness', 'joy', 'love', 'anger', 'fear', 'surprise']"
            ]
          },
          "metadata": {},
          "execution_count": 77
        }
      ]
    },
    {
      "cell_type": "code",
      "source": [
        "emotions['train'][0]"
      ],
      "metadata": {
        "colab": {
          "base_uri": "https://localhost:8080/"
        },
        "id": "rbIKxrI3PkFC",
        "outputId": "3166995d-baaa-484d-b73c-06b6cf7ebcfc"
      },
      "execution_count": null,
      "outputs": [
        {
          "output_type": "execute_result",
          "data": {
            "text/plain": [
              "{'text': 'i didnt feel humiliated', 'label': 0}"
            ]
          },
          "metadata": {},
          "execution_count": 78
        }
      ]
    },
    {
      "cell_type": "code",
      "source": [
        "def get_Emotion(dataset_1):\n",
        "  # get label and there string values\n",
        "  a = 0\n",
        "  emotions = {}\n",
        "  for i in dataset_1.features['label'].names:\n",
        "    emotions[a] = i\n",
        "    a+=1\n",
        "  # save data into dataframe\n",
        "  go_emotions_df = pd.DataFrame(dataset_1)\n",
        "\n",
        "  # Remove square brackets and convert to int\n",
        "  # go_emotions_df['label'] = go_emotions_df['label'].apply(lambda x: int(x[0]))\n",
        "  # go_emotions_df.drop('id',axis=1, inplace=True)\n",
        "  # get label number for emotion present in 'emotion_categories'\n",
        "  emotion_to_extract = [k for k,v in emotions.items() if v in emotion_categories.values() ]\n",
        "  print()\n",
        "  for i in emotion_to_extract:\n",
        "    print(i, emotions[i])\n",
        "  df1 = go_emotions_df[go_emotions_df['label'].isin(emotion_to_extract)]\n",
        "  return df1"
      ],
      "metadata": {
        "id": "7a_uRBp1O0k5"
      },
      "execution_count": null,
      "outputs": []
    },
    {
      "cell_type": "code",
      "source": [
        "df_31 = get_Emotion(emotions['train'])\n",
        "df_32 = get_Emotion(emotions['test'])\n",
        "df_33 = get_Emotion(emotions['validation'])"
      ],
      "metadata": {
        "colab": {
          "base_uri": "https://localhost:8080/"
        },
        "id": "U7HAa9v6O0k6",
        "outputId": "a67f68e9-402b-474e-f084-aceaef8383e7"
      },
      "execution_count": null,
      "outputs": [
        {
          "output_type": "stream",
          "name": "stdout",
          "text": [
            "\n",
            "0 sadness\n",
            "1 joy\n",
            "2 love\n",
            "3 anger\n",
            "4 fear\n",
            "5 surprise\n",
            "\n",
            "0 sadness\n",
            "1 joy\n",
            "2 love\n",
            "3 anger\n",
            "4 fear\n",
            "5 surprise\n",
            "\n",
            "0 sadness\n",
            "1 joy\n",
            "2 love\n",
            "3 anger\n",
            "4 fear\n",
            "5 surprise\n"
          ]
        }
      ]
    },
    {
      "cell_type": "code",
      "source": [
        "df3 = pd.concat([df_31,df_32,df_33])\n",
        "df3.shape, df3['label'].value_counts()"
      ],
      "metadata": {
        "colab": {
          "base_uri": "https://localhost:8080/"
        },
        "outputId": "4ded685e-5016-4c39-f3ee-c8ab02704f2b",
        "id": "s7Z3lTTrO0k7"
      },
      "execution_count": null,
      "outputs": [
        {
          "output_type": "execute_result",
          "data": {
            "text/plain": [
              "((20000, 2),\n",
              " 1    6761\n",
              " 0    5797\n",
              " 3    2709\n",
              " 4    2373\n",
              " 2    1641\n",
              " 5     719\n",
              " Name: label, dtype: int64)"
            ]
          },
          "metadata": {},
          "execution_count": 81
        }
      ]
    },
    {
      "cell_type": "code",
      "source": [
        "e = {\n",
        "    0: 'sadness',\n",
        "    1: 'joy',\n",
        "    2: 'love',\n",
        "    3: 'anger',\n",
        "    4: 'fear',\n",
        "    5: 'surprise'\n",
        "}\n",
        "df3['label'] = df3['label'].map(e)\n",
        "df3.shape, df3['label'].value_counts()"
      ],
      "metadata": {
        "colab": {
          "base_uri": "https://localhost:8080/"
        },
        "id": "C494A2-4k7KQ",
        "outputId": "35c41838-3e23-4771-ccb5-1475398898a8"
      },
      "execution_count": null,
      "outputs": [
        {
          "output_type": "execute_result",
          "data": {
            "text/plain": [
              "((20000, 2),\n",
              " joy         6761\n",
              " sadness     5797\n",
              " anger       2709\n",
              " fear        2373\n",
              " love        1641\n",
              " surprise     719\n",
              " Name: label, dtype: int64)"
            ]
          },
          "metadata": {},
          "execution_count": 82
        }
      ]
    },
    {
      "cell_type": "code",
      "source": [
        "# CSV file will be saved to your Google Drive\n",
        "df3.to_csv(google_drive_path+'/emotion.csv', index=False)\n",
        "\n",
        "\n",
        "\n",
        "\n",
        "\n",
        "\n"
      ],
      "metadata": {
        "id": "wgQyutbUO0k8"
      },
      "execution_count": null,
      "outputs": []
    },
    {
      "cell_type": "markdown",
      "source": [
        "### sem_eval"
      ],
      "metadata": {
        "id": "1PGquxbSQfEz"
      }
    },
    {
      "cell_type": "code",
      "source": [
        "sem_eval = load_dataset(\"sem_eval_2018_task_1\",'subtask5.english')"
      ],
      "metadata": {
        "id": "w-FbZsfDQfE1"
      },
      "execution_count": null,
      "outputs": []
    },
    {
      "cell_type": "code",
      "source": [
        "def get_sem_eval(dataset_1):\n",
        "  # Create a DataFrame from the dictionary\n",
        "  df4_1 = pd.DataFrame(dataset_1)\n",
        "  df4_1['text'] = df4_1['Tweet']\n",
        "  df4_1.drop(['ID','Tweet'], axis=1, inplace=True)\n",
        "  df4_1 = df4_1[['text','sadness','joy','love','anger','fear','surprise']]\n",
        "\n",
        "  # Create a new \"label\" column based on True values in other columns\n",
        "  df4_1['label'] = df4_1.apply(lambda row: ', '.join([col for col in df4_1.columns[1:] if row[col]]), axis=1)\n",
        "\n",
        "  # Filter rows with only one emotion in the \"label\" column\n",
        "  filtered_df4_1 = df4_1[df4_1['label'].str.count(',') == 0]\n",
        "\n",
        "  # Drop rows with an empty \"label\" column\n",
        "  filtered_df4_1 = filtered_df4_1[filtered_df4_1['label'] != '']\n",
        "  filtered_df4_1 = filtered_df4_1[['text','label']]\n",
        "\n",
        "  # Filter rows with only one emotion in the \"label\" column\n",
        "  filtered_df4_1 = df4_1[df4_1['label'].str.count(',') == 0]\n",
        "\n",
        "  # Drop rows with an empty \"label\" column\n",
        "  filtered_df4_1 = filtered_df4_1[filtered_df4_1['label'] != '']\n",
        "  filtered_df4_1 = filtered_df4_1[['text','label']]\n",
        "\n",
        "  # Define the mapping of emotions to numbers\n",
        "  emotion_mapping = {\n",
        "      'sadness': 0,\n",
        "      'joy': 1,\n",
        "      'love': 2,\n",
        "      'anger': 3,\n",
        "      'fear': 4,\n",
        "      'surprise': 5\n",
        "  }\n",
        "\n",
        "  # Replace values in the \"label\" column with numbers based on the mapping\n",
        "  filtered_df4_1['label'] = filtered_df4_1['label'].map(emotion_mapping)\n",
        "  return filtered_df4_1"
      ],
      "metadata": {
        "id": "STtdwuAIXFzD"
      },
      "execution_count": null,
      "outputs": []
    },
    {
      "cell_type": "code",
      "source": [
        "df_41 = get_sem_eval(sem_eval['train'])\n",
        "df_42 = get_sem_eval(sem_eval['validation'])\n",
        "df_43 = get_sem_eval(sem_eval['test'])"
      ],
      "metadata": {
        "id": "mdorfM-YXioJ"
      },
      "execution_count": null,
      "outputs": []
    },
    {
      "cell_type": "code",
      "source": [
        "df4 = pd.concat([df_41,df_42,df_43])\n",
        "df4.shape, df4['label'].value_counts()"
      ],
      "metadata": {
        "colab": {
          "base_uri": "https://localhost:8080/"
        },
        "id": "NqpfElOkXidM",
        "outputId": "014a8cef-9345-44ad-bb40-bb85acbd8242"
      },
      "execution_count": null,
      "outputs": [
        {
          "output_type": "execute_result",
          "data": {
            "text/plain": [
              "((5603, 2),\n",
              " 1    2065\n",
              " 3    1812\n",
              " 0    1000\n",
              " 4     601\n",
              " 5      89\n",
              " 2      36\n",
              " Name: label, dtype: int64)"
            ]
          },
          "metadata": {},
          "execution_count": 87
        }
      ]
    },
    {
      "cell_type": "code",
      "source": [
        "e = {\n",
        "    0: 'sadness',\n",
        "    1: 'joy',\n",
        "    2: 'love',\n",
        "    3: 'anger',\n",
        "    4: 'fear',\n",
        "    5: 'surprise'\n",
        "}\n",
        "df4['label'] = df4['label'].map(e)\n",
        "df4.shape, df4['label'].value_counts()"
      ],
      "metadata": {
        "colab": {
          "base_uri": "https://localhost:8080/"
        },
        "id": "Wo2AjMzdlLXu",
        "outputId": "6c643c32-f280-4065-e545-10186f1f68df"
      },
      "execution_count": null,
      "outputs": [
        {
          "output_type": "execute_result",
          "data": {
            "text/plain": [
              "((5603, 2),\n",
              " joy         2065\n",
              " anger       1812\n",
              " sadness     1000\n",
              " fear         601\n",
              " surprise      89\n",
              " love          36\n",
              " Name: label, dtype: int64)"
            ]
          },
          "metadata": {},
          "execution_count": 88
        }
      ]
    },
    {
      "cell_type": "code",
      "source": [
        "# CSV file will be saved to your Google Drive\n",
        "df4.to_csv(google_drive_path+'/sem_eval.csv', index=False)\n"
      ],
      "metadata": {
        "id": "H_qeV4EFYcBJ"
      },
      "execution_count": null,
      "outputs": []
    },
    {
      "cell_type": "markdown",
      "source": [
        "#Compile main df"
      ],
      "metadata": {
        "id": "-we9uMSDmA5m"
      }
    },
    {
      "cell_type": "code",
      "source": [
        "import pandas as pd\n",
        "import numpy as np\n",
        "import os\n",
        "import glob\n"
      ],
      "metadata": {
        "id": "fwJ_j5plc4h6"
      },
      "execution_count": null,
      "outputs": []
    },
    {
      "cell_type": "code",
      "source": [
        "from google.colab import drive\n",
        "\n",
        "# Mount Google Drive\n",
        "drive.mount('/content/drive')\n",
        "\n",
        "# Specify the path where you want to save the CSV file on Google Drive\n",
        "google_drive_path = '/content/drive/desktop/EmoInsight'"
      ],
      "metadata": {
        "id": "brv8sElTYmxs",
        "colab": {
          "base_uri": "https://localhost:8080/"
        },
        "outputId": "7d281421-7f3f-4b7f-de69-96c6b7e4fa3d"
      },
      "execution_count": null,
      "outputs": [
        {
          "output_type": "stream",
          "name": "stdout",
          "text": [
            "Drive already mounted at /content/drive; to attempt to forcibly remount, call drive.mount(\"/content/drive\", force_remount=True).\n"
          ]
        }
      ]
    },
    {
      "cell_type": "code",
      "source": [
        "# List all CSV files in the directory\n",
        "csv_files = glob.glob(os.path.join(google_drive_path, '*.csv'))\n",
        "\n",
        "df = pd.DataFrame()\n",
        "# Get the list of CSV files\n",
        "for file_path in csv_files:\n",
        "  file_name = file_path.split('/')[-1]\n",
        "  if not ((file_name == 'X.csv') or (file_name == 'y.csv')):\n",
        "    print(file_name)\n",
        "    a = pd.read_csv(file_path)\n",
        "    df = pd.concat([df,a])"
      ],
      "metadata": {
        "colab": {
          "base_uri": "https://localhost:8080/"
        },
        "id": "KczRCdv1c9u-",
        "outputId": "25e1ba2f-8e0d-43c2-9a68-84c15d2b5c66"
      },
      "execution_count": null,
      "outputs": [
        {
          "output_type": "stream",
          "name": "stdout",
          "text": [
            "crowdflower.csv\n",
            "go_emotions.csv\n",
            "emotion.csv\n",
            "sem_eval.csv\n"
          ]
        }
      ]
    },
    {
      "cell_type": "code",
      "source": [
        "df.head(2)"
      ],
      "metadata": {
        "colab": {
          "base_uri": "https://localhost:8080/",
          "height": 112
        },
        "id": "1MJ6rELllwSw",
        "outputId": "361436d5-0519-46c6-ad2e-d8a2ee297c4e"
      },
      "execution_count": null,
      "outputs": [
        {
          "output_type": "execute_result",
          "data": {
            "text/plain": [
              "                                                text    label\n",
              "0  Layin n bed with a headache  ughhhh...waitin o...  sadness\n",
              "1                Funeral ceremony...gloomy friday...  sadness"
            ],
            "text/html": [
              "\n",
              "  <div id=\"df-5c1b1379-a1b2-47ab-aee1-e64902d35ecb\" class=\"colab-df-container\">\n",
              "    <div>\n",
              "<style scoped>\n",
              "    .dataframe tbody tr th:only-of-type {\n",
              "        vertical-align: middle;\n",
              "    }\n",
              "\n",
              "    .dataframe tbody tr th {\n",
              "        vertical-align: top;\n",
              "    }\n",
              "\n",
              "    .dataframe thead th {\n",
              "        text-align: right;\n",
              "    }\n",
              "</style>\n",
              "<table border=\"1\" class=\"dataframe\">\n",
              "  <thead>\n",
              "    <tr style=\"text-align: right;\">\n",
              "      <th></th>\n",
              "      <th>text</th>\n",
              "      <th>label</th>\n",
              "    </tr>\n",
              "  </thead>\n",
              "  <tbody>\n",
              "    <tr>\n",
              "      <th>0</th>\n",
              "      <td>Layin n bed with a headache  ughhhh...waitin o...</td>\n",
              "      <td>sadness</td>\n",
              "    </tr>\n",
              "    <tr>\n",
              "      <th>1</th>\n",
              "      <td>Funeral ceremony...gloomy friday...</td>\n",
              "      <td>sadness</td>\n",
              "    </tr>\n",
              "  </tbody>\n",
              "</table>\n",
              "</div>\n",
              "    <div class=\"colab-df-buttons\">\n",
              "\n",
              "  <div class=\"colab-df-container\">\n",
              "    <button class=\"colab-df-convert\" onclick=\"convertToInteractive('df-5c1b1379-a1b2-47ab-aee1-e64902d35ecb')\"\n",
              "            title=\"Convert this dataframe to an interactive table.\"\n",
              "            style=\"display:none;\">\n",
              "\n",
              "  <svg xmlns=\"http://www.w3.org/2000/svg\" height=\"24px\" viewBox=\"0 -960 960 960\">\n",
              "    <path d=\"M120-120v-720h720v720H120Zm60-500h600v-160H180v160Zm220 220h160v-160H400v160Zm0 220h160v-160H400v160ZM180-400h160v-160H180v160Zm440 0h160v-160H620v160ZM180-180h160v-160H180v160Zm440 0h160v-160H620v160Z\"/>\n",
              "  </svg>\n",
              "    </button>\n",
              "\n",
              "  <style>\n",
              "    .colab-df-container {\n",
              "      display:flex;\n",
              "      gap: 12px;\n",
              "    }\n",
              "\n",
              "    .colab-df-convert {\n",
              "      background-color: #E8F0FE;\n",
              "      border: none;\n",
              "      border-radius: 50%;\n",
              "      cursor: pointer;\n",
              "      display: none;\n",
              "      fill: #1967D2;\n",
              "      height: 32px;\n",
              "      padding: 0 0 0 0;\n",
              "      width: 32px;\n",
              "    }\n",
              "\n",
              "    .colab-df-convert:hover {\n",
              "      background-color: #E2EBFA;\n",
              "      box-shadow: 0px 1px 2px rgba(60, 64, 67, 0.3), 0px 1px 3px 1px rgba(60, 64, 67, 0.15);\n",
              "      fill: #174EA6;\n",
              "    }\n",
              "\n",
              "    .colab-df-buttons div {\n",
              "      margin-bottom: 4px;\n",
              "    }\n",
              "\n",
              "    [theme=dark] .colab-df-convert {\n",
              "      background-color: #3B4455;\n",
              "      fill: #D2E3FC;\n",
              "    }\n",
              "\n",
              "    [theme=dark] .colab-df-convert:hover {\n",
              "      background-color: #434B5C;\n",
              "      box-shadow: 0px 1px 3px 1px rgba(0, 0, 0, 0.15);\n",
              "      filter: drop-shadow(0px 1px 2px rgba(0, 0, 0, 0.3));\n",
              "      fill: #FFFFFF;\n",
              "    }\n",
              "  </style>\n",
              "\n",
              "    <script>\n",
              "      const buttonEl =\n",
              "        document.querySelector('#df-5c1b1379-a1b2-47ab-aee1-e64902d35ecb button.colab-df-convert');\n",
              "      buttonEl.style.display =\n",
              "        google.colab.kernel.accessAllowed ? 'block' : 'none';\n",
              "\n",
              "      async function convertToInteractive(key) {\n",
              "        const element = document.querySelector('#df-5c1b1379-a1b2-47ab-aee1-e64902d35ecb');\n",
              "        const dataTable =\n",
              "          await google.colab.kernel.invokeFunction('convertToInteractive',\n",
              "                                                    [key], {});\n",
              "        if (!dataTable) return;\n",
              "\n",
              "        const docLinkHtml = 'Like what you see? Visit the ' +\n",
              "          '<a target=\"_blank\" href=https://colab.research.google.com/notebooks/data_table.ipynb>data table notebook</a>'\n",
              "          + ' to learn more about interactive tables.';\n",
              "        element.innerHTML = '';\n",
              "        dataTable['output_type'] = 'display_data';\n",
              "        await google.colab.output.renderOutput(dataTable, element);\n",
              "        const docLink = document.createElement('div');\n",
              "        docLink.innerHTML = docLinkHtml;\n",
              "        element.appendChild(docLink);\n",
              "      }\n",
              "    </script>\n",
              "  </div>\n",
              "\n",
              "\n",
              "<div id=\"df-dc4b859c-95f9-4996-b188-ea84a2b6a75e\">\n",
              "  <button class=\"colab-df-quickchart\" onclick=\"quickchart('df-dc4b859c-95f9-4996-b188-ea84a2b6a75e')\"\n",
              "            title=\"Suggest charts.\"\n",
              "            style=\"display:none;\">\n",
              "\n",
              "<svg xmlns=\"http://www.w3.org/2000/svg\" height=\"24px\"viewBox=\"0 0 24 24\"\n",
              "     width=\"24px\">\n",
              "    <g>\n",
              "        <path d=\"M19 3H5c-1.1 0-2 .9-2 2v14c0 1.1.9 2 2 2h14c1.1 0 2-.9 2-2V5c0-1.1-.9-2-2-2zM9 17H7v-7h2v7zm4 0h-2V7h2v10zm4 0h-2v-4h2v4z\"/>\n",
              "    </g>\n",
              "</svg>\n",
              "  </button>\n",
              "\n",
              "<style>\n",
              "  .colab-df-quickchart {\n",
              "      --bg-color: #E8F0FE;\n",
              "      --fill-color: #1967D2;\n",
              "      --hover-bg-color: #E2EBFA;\n",
              "      --hover-fill-color: #174EA6;\n",
              "      --disabled-fill-color: #AAA;\n",
              "      --disabled-bg-color: #DDD;\n",
              "  }\n",
              "\n",
              "  [theme=dark] .colab-df-quickchart {\n",
              "      --bg-color: #3B4455;\n",
              "      --fill-color: #D2E3FC;\n",
              "      --hover-bg-color: #434B5C;\n",
              "      --hover-fill-color: #FFFFFF;\n",
              "      --disabled-bg-color: #3B4455;\n",
              "      --disabled-fill-color: #666;\n",
              "  }\n",
              "\n",
              "  .colab-df-quickchart {\n",
              "    background-color: var(--bg-color);\n",
              "    border: none;\n",
              "    border-radius: 50%;\n",
              "    cursor: pointer;\n",
              "    display: none;\n",
              "    fill: var(--fill-color);\n",
              "    height: 32px;\n",
              "    padding: 0;\n",
              "    width: 32px;\n",
              "  }\n",
              "\n",
              "  .colab-df-quickchart:hover {\n",
              "    background-color: var(--hover-bg-color);\n",
              "    box-shadow: 0 1px 2px rgba(60, 64, 67, 0.3), 0 1px 3px 1px rgba(60, 64, 67, 0.15);\n",
              "    fill: var(--button-hover-fill-color);\n",
              "  }\n",
              "\n",
              "  .colab-df-quickchart-complete:disabled,\n",
              "  .colab-df-quickchart-complete:disabled:hover {\n",
              "    background-color: var(--disabled-bg-color);\n",
              "    fill: var(--disabled-fill-color);\n",
              "    box-shadow: none;\n",
              "  }\n",
              "\n",
              "  .colab-df-spinner {\n",
              "    border: 2px solid var(--fill-color);\n",
              "    border-color: transparent;\n",
              "    border-bottom-color: var(--fill-color);\n",
              "    animation:\n",
              "      spin 1s steps(1) infinite;\n",
              "  }\n",
              "\n",
              "  @keyframes spin {\n",
              "    0% {\n",
              "      border-color: transparent;\n",
              "      border-bottom-color: var(--fill-color);\n",
              "      border-left-color: var(--fill-color);\n",
              "    }\n",
              "    20% {\n",
              "      border-color: transparent;\n",
              "      border-left-color: var(--fill-color);\n",
              "      border-top-color: var(--fill-color);\n",
              "    }\n",
              "    30% {\n",
              "      border-color: transparent;\n",
              "      border-left-color: var(--fill-color);\n",
              "      border-top-color: var(--fill-color);\n",
              "      border-right-color: var(--fill-color);\n",
              "    }\n",
              "    40% {\n",
              "      border-color: transparent;\n",
              "      border-right-color: var(--fill-color);\n",
              "      border-top-color: var(--fill-color);\n",
              "    }\n",
              "    60% {\n",
              "      border-color: transparent;\n",
              "      border-right-color: var(--fill-color);\n",
              "    }\n",
              "    80% {\n",
              "      border-color: transparent;\n",
              "      border-right-color: var(--fill-color);\n",
              "      border-bottom-color: var(--fill-color);\n",
              "    }\n",
              "    90% {\n",
              "      border-color: transparent;\n",
              "      border-bottom-color: var(--fill-color);\n",
              "    }\n",
              "  }\n",
              "</style>\n",
              "\n",
              "  <script>\n",
              "    async function quickchart(key) {\n",
              "      const quickchartButtonEl =\n",
              "        document.querySelector('#' + key + ' button');\n",
              "      quickchartButtonEl.disabled = true;  // To prevent multiple clicks.\n",
              "      quickchartButtonEl.classList.add('colab-df-spinner');\n",
              "      try {\n",
              "        const charts = await google.colab.kernel.invokeFunction(\n",
              "            'suggestCharts', [key], {});\n",
              "      } catch (error) {\n",
              "        console.error('Error during call to suggestCharts:', error);\n",
              "      }\n",
              "      quickchartButtonEl.classList.remove('colab-df-spinner');\n",
              "      quickchartButtonEl.classList.add('colab-df-quickchart-complete');\n",
              "    }\n",
              "    (() => {\n",
              "      let quickchartButtonEl =\n",
              "        document.querySelector('#df-dc4b859c-95f9-4996-b188-ea84a2b6a75e button');\n",
              "      quickchartButtonEl.style.display =\n",
              "        google.colab.kernel.accessAllowed ? 'block' : 'none';\n",
              "    })();\n",
              "  </script>\n",
              "</div>\n",
              "    </div>\n",
              "  </div>\n"
            ]
          },
          "metadata": {},
          "execution_count": 94
        }
      ]
    },
    {
      "cell_type": "code",
      "source": [
        "df['label'].value_counts()"
      ],
      "metadata": {
        "colab": {
          "base_uri": "https://localhost:8080/"
        },
        "id": "yAj0m3j9dkbn",
        "outputId": "655c5e0a-8742-44d8-86c8-3b16d1961f54"
      },
      "execution_count": null,
      "outputs": [
        {
          "output_type": "execute_result",
          "data": {
            "text/plain": [
              "neutral     24659\n",
              "sadness     13029\n",
              "joy         10076\n",
              "love         7402\n",
              "anger        6567\n",
              "surprise     3933\n",
              "fear         3632\n",
              "Name: label, dtype: int64"
            ]
          },
          "metadata": {},
          "execution_count": 95
        }
      ]
    },
    {
      "cell_type": "code",
      "source": [
        "# CSV Main Dataset will be saved to your Google Drive\n",
        "df.to_csv(google_drive_path+'/main.csv', index=False)"
      ],
      "metadata": {
        "id": "ihVvzdwWlrJh"
      },
      "execution_count": null,
      "outputs": []
    }
  ]
}
